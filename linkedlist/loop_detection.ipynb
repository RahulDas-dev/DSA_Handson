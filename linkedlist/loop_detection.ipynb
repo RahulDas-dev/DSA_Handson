{
 "cells": [
  {
   "cell_type": "markdown",
   "id": "2397654c",
   "metadata": {},
   "source": [
    "### Print and delete middle of Linked List"
   ]
  },
  {
   "cell_type": "code",
   "execution_count": 3,
   "id": "98f3ddde",
   "metadata": {},
   "outputs": [],
   "source": [
    "from linkedlist import Node, LinkedList"
   ]
  },
  {
   "cell_type": "code",
   "execution_count": 35,
   "id": "fcaebc1b",
   "metadata": {
    "code_folding": [
     13
    ]
   },
   "outputs": [],
   "source": [
    "class LList(LinkedList):\n",
    "    def __init__(self):\n",
    "        LinkedList.__init__(self)\n",
    "\n",
    "    def detect_loop(self):\n",
    "        if self.head is None:\n",
    "            return False\n",
    "        slow_ptr = fast_ptr = self.head\n",
    "        slow_ptr = slow_ptr.fnext\n",
    "        slow_ptr = fast_ptr.fnext.fnext\n",
    "\n",
    "        while slow_ptr and fast_ptr and fast_ptr.fnext:\n",
    "            if fast_ptr is slow_ptr:\n",
    "                return True\n",
    "            fast_ptr = fast_ptr.fnext.fnext\n",
    "            slow_ptr = slow_ptr.fnext\n",
    "        return False\n",
    "\n",
    "    def delete_loop_get_loop_ptr(self):\n",
    "        if self.head is None:\n",
    "            return\n",
    "        fast_ptr = slow_ptr = self.head\n",
    "        fast_ptr = fast_ptr.fnext.fnext\n",
    "        fast_ptr = fast_ptr.fnext.fnext"
   ]
  },
  {
   "cell_type": "code",
   "execution_count": 37,
   "id": "2e020984",
   "metadata": {},
   "outputs": [
    {
     "name": "stdout",
     "output_type": "stream",
     "text": [
      "5->10->15->NULL\n",
      "5->10->15->25->35->45->NULL\n"
     ]
    }
   ],
   "source": [
    "ll = LList()\n",
    "ll.push(5)\n",
    "ll.push(10)\n",
    "ll.push(15)\n",
    "print(ll)\n",
    "n1 = Node(25)\n",
    "n2 = Node(35)\n",
    "n3 = Node(45)\n",
    "ll.head.fnext.fnext.fnext = n1\n",
    "n1.fnext = n2\n",
    "n2.fnext = n3\n",
    "print(ll)\n",
    "n3.fnext = ll.head.fnext.fnext"
   ]
  },
  {
   "cell_type": "code",
   "execution_count": 33,
   "id": "dfcdaf9c",
   "metadata": {},
   "outputs": [
    {
     "data": {
      "text/plain": [
       "True"
      ]
     },
     "execution_count": 33,
     "metadata": {},
     "output_type": "execute_result"
    }
   ],
   "source": [
    "# print(ll)\n",
    "ll.detect_loop()"
   ]
  },
  {
   "cell_type": "code",
   "execution_count": 38,
   "id": "60258254",
   "metadata": {},
   "outputs": [
    {
     "name": "stdout",
     "output_type": "stream",
     "text": [
      "5->10->15->NULL\n"
     ]
    },
    {
     "data": {
      "text/plain": [
       "False"
      ]
     },
     "execution_count": 38,
     "metadata": {},
     "output_type": "execute_result"
    }
   ],
   "source": [
    "l_1 = LList()\n",
    "l_1.push(5)\n",
    "l_1.push(10)\n",
    "l_1.push(15)\n",
    "print(l_1)\n",
    "l_1.detect_loop()"
   ]
  },
  {
   "cell_type": "code",
   "execution_count": null,
   "id": "d5240c8d",
   "metadata": {},
   "outputs": [],
   "source": []
  },
  {
   "cell_type": "code",
   "execution_count": null,
   "id": "467b6e6c",
   "metadata": {},
   "outputs": [],
   "source": []
  }
 ],
 "metadata": {
  "kernelspec": {
   "display_name": "Python 3",
   "language": "python",
   "name": "python3"
  },
  "language_info": {
   "codemirror_mode": {
    "name": "ipython",
    "version": 3
   },
   "file_extension": ".py",
   "mimetype": "text/x-python",
   "name": "python",
   "nbconvert_exporter": "python",
   "pygments_lexer": "ipython3",
   "version": "3.9.5"
  },
  "toc": {
   "base_numbering": 1,
   "nav_menu": {},
   "number_sections": true,
   "sideBar": true,
   "skip_h1_title": false,
   "title_cell": "Table of Contents",
   "title_sidebar": "Contents",
   "toc_cell": false,
   "toc_position": {},
   "toc_section_display": true,
   "toc_window_display": false
  }
 },
 "nbformat": 4,
 "nbformat_minor": 5
}
