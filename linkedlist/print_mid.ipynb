{
 "cells": [
  {
   "cell_type": "markdown",
   "id": "2397654c",
   "metadata": {},
   "source": [
    "### Print and delete middle of Linked List"
   ]
  },
  {
   "cell_type": "code",
   "execution_count": 3,
   "id": "98f3ddde",
   "metadata": {},
   "outputs": [],
   "source": [
    "from linkedlist import Node, LinkedList"
   ]
  },
  {
   "cell_type": "code",
   "execution_count": 4,
   "id": "fcaebc1b",
   "metadata": {
    "code_folding": [
     13
    ]
   },
   "outputs": [],
   "source": [
    "class LList(LinkedList):\n",
    "    def __init__(self):\n",
    "        LinkedList.__init__(self)\n",
    "\n",
    "    def print_mid(self):\n",
    "        if self.head is None:\n",
    "            return\n",
    "        stemp = ftemp = self.head\n",
    "        while (ftemp is not None) and (ftemp.fnext is not None):\n",
    "            ftemp = ftemp.fnext.fnext\n",
    "            stemp = stemp.fnext\n",
    "        print(f\"Mid Value {stemp.data}\")\n",
    "\n",
    "    def delete_mid(self):\n",
    "        if self.head is None:\n",
    "            return\n",
    "        stemp = ftemp = self.head\n",
    "        prev = None\n",
    "        while (ftemp is not None) and (ftemp.fnext is not None):\n",
    "            ftemp = ftemp.fnext.fnext\n",
    "            prev = stemp\n",
    "            stemp = stemp.fnext\n",
    "\n",
    "        prev.fnext = stemp.fnext"
   ]
  },
  {
   "cell_type": "code",
   "execution_count": 7,
   "id": "2e020984",
   "metadata": {},
   "outputs": [
    {
     "name": "stdout",
     "output_type": "stream",
     "text": [
      "5->10->15->20->25->30->NULL\n",
      "Mid Value 20\n"
     ]
    }
   ],
   "source": [
    "ll = LList()\n",
    "ll.push(5)\n",
    "ll.push(10)\n",
    "ll.push(15)\n",
    "ll.push(20)\n",
    "ll.push(25)\n",
    "ll.push(30)\n",
    "print(ll)\n",
    "ll.print_mid()"
   ]
  },
  {
   "cell_type": "code",
   "execution_count": 8,
   "id": "dfcdaf9c",
   "metadata": {},
   "outputs": [
    {
     "name": "stdout",
     "output_type": "stream",
     "text": [
      "5->10->15->20->25->30->NULL\n",
      "Mid Value 15\n",
      "5->10->15->25->30->NULL\n",
      "Mid Value 25\n",
      "5->10->25->30->NULL\n"
     ]
    }
   ],
   "source": [
    "print(ll)\n",
    "ll.delete_mid()\n",
    "ll.print_mid()\n",
    "print(ll)\n",
    "\n",
    "ll.delete_mid()\n",
    "ll.print_mid()\n",
    "print(ll)"
   ]
  },
  {
   "cell_type": "code",
   "execution_count": null,
   "id": "60258254",
   "metadata": {},
   "outputs": [],
   "source": []
  },
  {
   "cell_type": "code",
   "execution_count": null,
   "id": "95ad55e6",
   "metadata": {},
   "outputs": [],
   "source": []
  }
 ],
 "metadata": {
  "kernelspec": {
   "display_name": "Python 3",
   "language": "python",
   "name": "python3"
  },
  "language_info": {
   "codemirror_mode": {
    "name": "ipython",
    "version": 3
   },
   "file_extension": ".py",
   "mimetype": "text/x-python",
   "name": "python",
   "nbconvert_exporter": "python",
   "pygments_lexer": "ipython3",
   "version": "3.9.5"
  },
  "toc": {
   "base_numbering": 1,
   "nav_menu": {},
   "number_sections": true,
   "sideBar": true,
   "skip_h1_title": false,
   "title_cell": "Table of Contents",
   "title_sidebar": "Contents",
   "toc_cell": false,
   "toc_position": {},
   "toc_section_display": true,
   "toc_window_display": false
  }
 },
 "nbformat": 4,
 "nbformat_minor": 5
}
