{
 "cells": [
  {
   "cell_type": "markdown",
   "id": "d3b7b012",
   "metadata": {},
   "source": [
    "### LinkedList Insert and Drop  Implementation for any Position."
   ]
  },
  {
   "cell_type": "code",
   "execution_count": 1,
   "id": "2fe259ee",
   "metadata": {},
   "outputs": [],
   "source": [
    "from linkedlist import Node, LinkedList"
   ]
  },
  {
   "cell_type": "code",
   "execution_count": 67,
   "id": "fcaebc1b",
   "metadata": {
    "code_folding": []
   },
   "outputs": [],
   "source": [
    "class LList(LinkedList):\n",
    "    def __init__(self):\n",
    "        LinkedList.__init__(self)\n",
    "\n",
    "    def insert(self, data_, pos_=0):\n",
    "        node = Node(data_)\n",
    "        if self.head is None:\n",
    "            self.head = node\n",
    "            return\n",
    "        if pos_ == 0:\n",
    "            node.fnext = self.head.fnext\n",
    "            self.head = node\n",
    "            return\n",
    "        temp = self.head\n",
    "        pos_counter = 1\n",
    "        while temp is not None:  # 2->4->6->8->None\n",
    "            if pos_counter == pos_:\n",
    "                node.fnext = temp.fnext\n",
    "                temp.fnext = node\n",
    "                break\n",
    "            pos_counter += 1\n",
    "            temp = temp.fnext\n",
    "\n",
    "    def drop(self, pos_=0):\n",
    "        if self.head is None:\n",
    "            return\n",
    "        if pos_ == 0:\n",
    "            self.head = self.head.fnext\n",
    "            return\n",
    "        temp = self.head.fnext\n",
    "        prev = self.head\n",
    "        pos_counter = 1\n",
    "        while temp is not None:  # 2->4->6->8->None\n",
    "            if pos_counter == pos_:\n",
    "                prev.fnext = temp.fnext\n",
    "                break\n",
    "            prev = temp\n",
    "            pos_counter += 1\n",
    "            temp = temp.fnext"
   ]
  },
  {
   "cell_type": "code",
   "execution_count": 68,
   "id": "2e020984",
   "metadata": {},
   "outputs": [
    {
     "name": "stdout",
     "output_type": "stream",
     "text": [
      "5->10->15->20->NULL\n",
      "5->10->15->NULL 20->NULL\n",
      "3.5->4.5->10->40->15->NULL\n",
      "3.5->4.5->10->40->15->90->NULL\n"
     ]
    }
   ],
   "source": [
    "ll = LList()\n",
    "ll.push(5)\n",
    "ll.push(10)\n",
    "ll.push(15)\n",
    "ll.push(20)\n",
    "print(ll)\n",
    "x = ll.pop()\n",
    "print(ll, x)\n",
    "ll.insert(3.5)\n",
    "ll.insert(4.5, 1)\n",
    "ll.insert(40, 3)\n",
    "print(ll)\n",
    "ll.insert(90, 5)\n",
    "print(ll)"
   ]
  },
  {
   "cell_type": "code",
   "execution_count": 69,
   "id": "dfcdaf9c",
   "metadata": {},
   "outputs": [
    {
     "name": "stdout",
     "output_type": "stream",
     "text": [
      "3.5->4.5->10->40->15->90->NULL\n",
      "4.5->10->40->15->90->NULL\n"
     ]
    }
   ],
   "source": [
    "print(ll)\n",
    "ll.drop()\n",
    "print(ll)"
   ]
  },
  {
   "cell_type": "code",
   "execution_count": 71,
   "id": "60258254",
   "metadata": {},
   "outputs": [
    {
     "name": "stdout",
     "output_type": "stream",
     "text": [
      "4.5->10->15->90->NULL\n",
      "4.5->10->90->NULL\n"
     ]
    }
   ],
   "source": [
    "print(ll)\n",
    "ll.drop(2)\n",
    "print(ll)"
   ]
  },
  {
   "cell_type": "code",
   "execution_count": 73,
   "id": "95ad55e6",
   "metadata": {},
   "outputs": [
    {
     "name": "stdout",
     "output_type": "stream",
     "text": [
      "4.5->10->90->NULL\n",
      "4.5->10->NULL\n"
     ]
    }
   ],
   "source": [
    "print(ll)\n",
    "ll.drop(2)\n",
    "print(ll)"
   ]
  },
  {
   "cell_type": "code",
   "execution_count": null,
   "id": "cd044377",
   "metadata": {},
   "outputs": [],
   "source": []
  }
 ],
 "metadata": {
  "kernelspec": {
   "display_name": "Python 3",
   "language": "python",
   "name": "python3"
  },
  "language_info": {
   "codemirror_mode": {
    "name": "ipython",
    "version": 3
   },
   "file_extension": ".py",
   "mimetype": "text/x-python",
   "name": "python",
   "nbconvert_exporter": "python",
   "pygments_lexer": "ipython3",
   "version": "3.9.5"
  },
  "toc": {
   "base_numbering": 1,
   "nav_menu": {},
   "number_sections": true,
   "sideBar": true,
   "skip_h1_title": false,
   "title_cell": "Table of Contents",
   "title_sidebar": "Contents",
   "toc_cell": false,
   "toc_position": {},
   "toc_section_display": true,
   "toc_window_display": false
  }
 },
 "nbformat": 4,
 "nbformat_minor": 5
}
